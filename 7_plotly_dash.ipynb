{
 "cells": [
  {
   "cell_type": "code",
   "execution_count": 13,
   "id": "b781fb16",
   "metadata": {},
   "outputs": [
    {
     "name": "stderr",
     "output_type": "stream",
     "text": [
      "Traceback (most recent call last):\n",
      "  File \"C:\\Users\\vcoet\\Anaconda3\\NEW\\Scripts\\pip-script.py\", line 10, in <module>\n",
      "    sys.exit(main())\n",
      "  File \"C:\\Users\\vcoet\\Anaconda3\\NEW\\lib\\site-packages\\pip\\_internal\\cli\\main.py\", line 68, in main\n",
      "    command = create_command(cmd_name, isolated=(\"--isolated\" in cmd_args))\n",
      "  File \"C:\\Users\\vcoet\\Anaconda3\\NEW\\lib\\site-packages\\pip\\_internal\\commands\\__init__.py\", line 94, in create_command\n",
      "    module = importlib.import_module(module_path)\n",
      "  File \"C:\\Users\\vcoet\\Anaconda3\\NEW\\lib\\importlib\\__init__.py\", line 127, in import_module\n",
      "    return _bootstrap._gcd_import(name[level:], package, level)\n",
      "  File \"<frozen importlib._bootstrap>\", line 1030, in _gcd_import\n",
      "  File \"<frozen importlib._bootstrap>\", line 1007, in _find_and_load\n",
      "  File \"<frozen importlib._bootstrap>\", line 986, in _find_and_load_unlocked\n",
      "  File \"<frozen importlib._bootstrap>\", line 680, in _load_unlocked\n",
      "  File \"<frozen importlib._bootstrap_external>\", line 850, in exec_module\n",
      "  File \"<frozen importlib._bootstrap>\", line 228, in _call_with_frames_removed\n",
      "  File \"C:\\Users\\vcoet\\Anaconda3\\NEW\\lib\\site-packages\\pip\\_internal\\commands\\install.py\", line 14, in <module>\n",
      "    from pip._internal.cli.req_command import (\n",
      "  File \"C:\\Users\\vcoet\\Anaconda3\\NEW\\lib\\site-packages\\pip\\_internal\\cli\\req_command.py\", line 20, in <module>\n",
      "    from pip._internal.index.collector import LinkCollector\n",
      "  File \"C:\\Users\\vcoet\\Anaconda3\\NEW\\lib\\site-packages\\pip\\_internal\\index\\collector.py\", line 28, in <module>\n",
      "    from pip._vendor import html5lib, requests\n",
      "ImportError: cannot import name 'html5lib' from 'pip._vendor' (C:\\Users\\vcoet\\Anaconda3\\NEW\\lib\\site-packages\\pip\\_vendor\\__init__.py)\n",
      "Traceback (most recent call last):\n",
      "  File \"C:\\Users\\vcoet\\Anaconda3\\NEW\\Scripts\\pip-script.py\", line 10, in <module>\n",
      "    sys.exit(main())\n",
      "  File \"C:\\Users\\vcoet\\Anaconda3\\NEW\\lib\\site-packages\\pip\\_internal\\cli\\main.py\", line 68, in main\n",
      "    command = create_command(cmd_name, isolated=(\"--isolated\" in cmd_args))\n",
      "  File \"C:\\Users\\vcoet\\Anaconda3\\NEW\\lib\\site-packages\\pip\\_internal\\commands\\__init__.py\", line 94, in create_command\n",
      "    module = importlib.import_module(module_path)\n",
      "  File \"C:\\Users\\vcoet\\Anaconda3\\NEW\\lib\\importlib\\__init__.py\", line 127, in import_module\n",
      "    return _bootstrap._gcd_import(name[level:], package, level)\n",
      "  File \"<frozen importlib._bootstrap>\", line 1030, in _gcd_import\n",
      "  File \"<frozen importlib._bootstrap>\", line 1007, in _find_and_load\n",
      "  File \"<frozen importlib._bootstrap>\", line 986, in _find_and_load_unlocked\n",
      "  File \"<frozen importlib._bootstrap>\", line 680, in _load_unlocked\n",
      "  File \"<frozen importlib._bootstrap_external>\", line 850, in exec_module\n",
      "  File \"<frozen importlib._bootstrap>\", line 228, in _call_with_frames_removed\n",
      "  File \"C:\\Users\\vcoet\\Anaconda3\\NEW\\lib\\site-packages\\pip\\_internal\\commands\\install.py\", line 14, in <module>\n",
      "    from pip._internal.cli.req_command import (\n",
      "  File \"C:\\Users\\vcoet\\Anaconda3\\NEW\\lib\\site-packages\\pip\\_internal\\cli\\req_command.py\", line 20, in <module>\n",
      "    from pip._internal.index.collector import LinkCollector\n",
      "  File \"C:\\Users\\vcoet\\Anaconda3\\NEW\\lib\\site-packages\\pip\\_internal\\index\\collector.py\", line 28, in <module>\n",
      "    from pip._vendor import html5lib, requests\n",
      "ImportError: cannot import name 'html5lib' from 'pip._vendor' (C:\\Users\\vcoet\\Anaconda3\\NEW\\lib\\site-packages\\pip\\_vendor\\__init__.py)\n"
     ]
    }
   ],
   "source": [
    "# Install and import required libraries\n",
    "##!pip install pip\n",
    "#!pip install dash==1.19.0\n",
    "#!pip install dash\n",
    "!pip install jupyter_dash \n",
    "!pip install --upgrade plotly"
   ]
  },
  {
   "cell_type": "code",
   "execution_count": null,
   "id": "6d1acfe4",
   "metadata": {},
   "outputs": [],
   "source": [
    "import pandas as pd \n",
    "import dash \n",
    "import dash_html_components as html \n",
    "#import dash_core_components as dcc from dash.dependencies (deprecated)\n",
    "#import dash_core_components as dcc #(for use in the skills lab)\n",
    "from dash import dcc\n",
    "import JupyterDash \n",
    "#import Input, Output from jupyter_dash (invalid syntax error)\n",
    "#from dash.dependencies import Input, Output (for use in the skills lab)\n",
    "import plotly.graph_objects as go  \n",
    "import plotly.express as px"
   ]
  },
  {
   "cell_type": "code",
   "execution_count": null,
   "id": "25da5f34",
   "metadata": {},
   "outputs": [],
   "source": [
    "# Read the airline data into pandas dataframe\n",
    "#spacex_df = pd.read_csv(\"spacex_launch_dash.csv\") (for use in skills lab)\n",
    "spacex_df = pd.read_csv(\"https://cf-courses-data.s3.us.cloud-object-storage.appdomain.cloud/IBM-DS0321EN-SkillsNetwork/datasets/spacex_launch_dash.csv\")\n",
    "max_payload = spacex_df['Payload Mass (kg)'].max()\n",
    "min_payload = spacex_df['Payload Mass (kg)'].min()"
   ]
  },
  {
   "cell_type": "code",
   "execution_count": null,
   "id": "db440365",
   "metadata": {},
   "outputs": [],
   "source": [
    "# Create a dash application\n",
    "#app = dash.Dash(__name__) (for use in skills lab)\n",
    "app = JupyterDash(__name__)"
   ]
  },
  {
   "cell_type": "code",
   "execution_count": null,
   "id": "20afe1b5",
   "metadata": {},
   "outputs": [],
   "source": [
    "# Create an app layout\n",
    "app.layout = html.Div(children=[html.H1('SpaceX Launch Records Dashboard',\n",
    "                                        style={'textAlign': 'center', 'color': '#503D36',\n",
    "                                               'font-size': 40}),\n",
    "                                # TASK 1: Add a dropdown list to enable Launch Site selection\n",
    "                                # The default select value is for ALL sites\n",
    "                                dcc.Dropdown(id='site-dropdown',\n",
    "                                            options=[\n",
    "                                                 {'label': 'All Sites', 'value': 'ALL'},\n",
    "                                                 {'label': 'CCAFS LC-40', 'value': 'CCAFS LC-40'},\n",
    "                                                 {'label': 'CCAFS SLC-40', 'value': 'CCAFS SLC-40'},\n",
    "                                                 {'label': 'KSC LC-39A', 'value': 'KSC LC-39A'},\n",
    "                                                 {'label': 'VAFB SLC-4E', 'value': 'VAFB SLC-4E'},\n",
    "                                                 ],\n",
    "                                             value='All Sites',\n",
    "                                             placeholder=\"Select a launch site\",\n",
    "                                             searchable=True\n",
    "                                             ),\n",
    "                                html.Br(),\n",
    "\n",
    "                                # TASK 2: Add a pie chart to show the total successful launches count for all sites\n",
    "                                # If a specific launch site was selected, show the Success vs. Failed counts for the site\n",
    "                                html.Div(dcc.Graph(id='success-pie-chart')),\n",
    "                                html.Br(),\n",
    "                                # Function decorator to specify function input and output\n",
    "@app.callback(Output(component_id='success-pie-chart', component_property='figure'),\n",
    "              Input(component_id='site-dropdown', component_property='value'))\n",
    "def get_pie_chart(entered_site):\n",
    "    filtered_df = spacex_df\n",
    "    if entered_site == 'ALL':\n",
    "        fig = px.pie(filtered_df, values='class', \n",
    "        names='Launch Site', \n",
    "        title='Success Count for all launch sites')\n",
    "        return fig\n",
    "    else:\n",
    "# return the outcomes piechart for a selected site\n",
    "        filtered_df=spacex_df[spacex_df['Launch Site']== entered_site]\n",
    "        filtered_df=filtered_df.groupby(['Launch Site','class']).size().reset_index(name='class count')\n",
    "        fig=px.pie(filtered_df,values='class count',names='class',title=\"Total Success Launches for site {entered_site}\")\n",
    "        return fig\n",
    "        # return the outcomes piechart for a selected site\n",
    "                                \n",
    "\n",
    "                                html.P(\"Payload range (Kg):\"),\n",
    "                                # TASK 3: Add a slider to select payload range\n",
    "                                #dcc.RangeSlider(id='payload-slider',...)\n",
    "\n",
    "                                # TASK 4: Add a scatter chart to show the correlation between payload and launch success\n",
    "                                html.Div(dcc.Graph(id='success-payload-scatter-chart')),\n",
    "                                ])\n",
    "\n",
    "# TASK 2:\n",
    "# Add a callback function for `site-dropdown` as input, `success-pie-chart` as output\n",
    "\n",
    "# TASK 4:\n",
    "# Add a callback function for `site-dropdown` and `payload-slider` as inputs, `success-payload-scatter-chart` as output"
   ]
  },
  {
   "cell_type": "code",
   "execution_count": null,
   "id": "57ddea5e",
   "metadata": {},
   "outputs": [],
   "source": [
    "# Run the app\n",
    "#if __name__ == '__main__':\n",
    " #   app.run_server() (for use in skills lab)\n",
    "if __name__ == '__main__':    \n",
    "\n",
    "              app.run_server(mode='jupyterlab', port = 8090 ,dev_tools_ui=True, debug=True, dev_tools_hot_reload =True, threaded=True)"
   ]
  }
 ],
 "metadata": {
  "kernelspec": {
   "display_name": "Python 3 (ipykernel)",
   "language": "python",
   "name": "python3"
  },
  "language_info": {
   "codemirror_mode": {
    "name": "ipython",
    "version": 3
   },
   "file_extension": ".py",
   "mimetype": "text/x-python",
   "name": "python",
   "nbconvert_exporter": "python",
   "pygments_lexer": "ipython3",
   "version": "3.9.12"
  }
 },
 "nbformat": 4,
 "nbformat_minor": 5
}
